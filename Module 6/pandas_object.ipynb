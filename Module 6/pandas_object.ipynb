{
 "metadata": {
  "language_info": {
   "codemirror_mode": {
    "name": "ipython",
    "version": 3
   },
   "file_extension": ".py",
   "mimetype": "text/x-python",
   "name": "python",
   "nbconvert_exporter": "python",
   "pygments_lexer": "ipython3",
   "version": "3.8.5-final"
  },
  "orig_nbformat": 2,
  "kernelspec": {
   "name": "python_defaultSpec_1605415125772",
   "display_name": "Python 3.8.5 64-bit"
  }
 },
 "nbformat": 4,
 "nbformat_minor": 2,
 "cells": [
  {
   "cell_type": "code",
   "execution_count": 6,
   "metadata": {},
   "outputs": [
    {
     "output_type": "execute_result",
     "data": {
      "text/plain": "          apples  oranges  peaches\nTom            3        0        2\nIsabella       2        3        4\nDaisy          0        7        6\nBlathers       1        2        8",
      "text/html": "<div>\n<style scoped>\n    .dataframe tbody tr th:only-of-type {\n        vertical-align: middle;\n    }\n\n    .dataframe tbody tr th {\n        vertical-align: top;\n    }\n\n    .dataframe thead th {\n        text-align: right;\n    }\n</style>\n<table border=\"1\" class=\"dataframe\">\n  <thead>\n    <tr style=\"text-align: right;\">\n      <th></th>\n      <th>apples</th>\n      <th>oranges</th>\n      <th>peaches</th>\n    </tr>\n  </thead>\n  <tbody>\n    <tr>\n      <th>Tom</th>\n      <td>3</td>\n      <td>0</td>\n      <td>2</td>\n    </tr>\n    <tr>\n      <th>Isabella</th>\n      <td>2</td>\n      <td>3</td>\n      <td>4</td>\n    </tr>\n    <tr>\n      <th>Daisy</th>\n      <td>0</td>\n      <td>7</td>\n      <td>6</td>\n    </tr>\n    <tr>\n      <th>Blathers</th>\n      <td>1</td>\n      <td>2</td>\n      <td>8</td>\n    </tr>\n  </tbody>\n</table>\n</div>"
     },
     "metadata": {},
     "execution_count": 6
    }
   ],
   "source": [
    "import pandas as pd\n",
    "\n",
    "series = pd.Series([1, 3, 5, 6, 8])\n",
    "series\n",
    "\n",
    "data = {\n",
    "    'apples': [3, 2, 0, 1],\n",
    "    \"oranges\": [0, 3, 7, 2],\n",
    "    \"peaches\": [2, 4, 6, 8]\n",
    "}\n",
    "fruits= pd.DataFrame(data)\n",
    "fruits\n",
    "\n",
    "\n",
    "buyer= pd.DataFrame(data, index=['Tom', 'Isabella', 'Daisy', 'Blathers'])\n",
    "buyer"
   ]
  },
  {
   "cell_type": "code",
   "execution_count": 8,
   "metadata": {},
   "outputs": [
    {
     "output_type": "execute_result",
     "data": {
      "text/plain": "apples     3\noranges    0\npeaches    2\nName: Tom, dtype: int64"
     },
     "metadata": {},
     "execution_count": 8
    }
   ],
   "source": [
    "buyer.loc['Tom']"
   ]
  },
  {
   "cell_type": "code",
   "execution_count": null,
   "metadata": {},
   "outputs": [],
   "source": []
  }
 ]
}