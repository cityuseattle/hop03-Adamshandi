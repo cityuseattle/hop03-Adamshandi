{
 "metadata": {
  "language_info": {
   "codemirror_mode": {
    "name": "ipython",
    "version": 3
   },
   "file_extension": ".py",
   "mimetype": "text/x-python",
   "name": "python",
   "nbconvert_exporter": "python",
   "pygments_lexer": "ipython3",
   "version": "3.8.5-final"
  },
  "orig_nbformat": 2,
  "kernelspec": {
   "name": "python_defaultSpec_1605336664759",
   "display_name": "Python 3.8.5 64-bit"
  }
 },
 "nbformat": 4,
 "nbformat_minor": 2,
 "cells": [
  {
   "cell_type": "code",
   "execution_count": 3,
   "metadata": {
    "tags": []
   },
   "outputs": [
    {
     "output_type": "stream",
     "name": "stdout",
     "text": "<class 'numpy.ndarray'>\nint64\n(3,)\n1 2 3\n[1 2 4]\n(2, 3)\n1 2 4\n[4 5 6]\n"
    }
   ],
   "source": [
    "import numpy as np\n",
    "\n",
    "arr= np.array([1, 2, 3])\n",
    "print(type(arr))\n",
    "print(arr.dtype)\n",
    "print(arr.shape)\n",
    "print(arr[0], arr[1], arr[2])\n",
    "arr[2]=4\n",
    "print(arr)\n",
    "\n",
    "# create rank 2 array\n",
    "arr2= np.array([[1, 2, 3], [4, 5, 6]])\n",
    "print(arr2.shape)\n",
    "print(arr2[0, 0], arr2[0, 1], arr2[1, 0])\n",
    "print(arr2[-1])"
   ]
  },
  {
   "cell_type": "code",
   "execution_count": 10,
   "metadata": {
    "tags": []
   },
   "outputs": [
    {
     "output_type": "stream",
     "name": "stdout",
     "text": "[[0. 0.]\n [0. 0.]]\n[[1. 1.]]\n[[5 5]\n [5 5]]\n[[1. 0. 0.]\n [0. 1. 0.]\n [0. 0. 1.]]\n[[0. 1. 0. 0.]\n [0. 0. 1. 0.]\n [0. 0. 0. 1.]\n [0. 0. 0. 0.]]\n[[0.91536567 0.98917935]\n [0.39829294 0.81828931]]\n"
    }
   ],
   "source": [
    "zero = np.zeros((2,2))\n",
    "print(zero)\n",
    "\n",
    "one = np.ones((1, 2))\n",
    "print(one)\n",
    "\n",
    "constant = np.full((2, 2), 5)\n",
    "print(constant)\n",
    "\n",
    "diag = np.eye(3)\n",
    "print(diag)\n",
    "\n",
    "diag = np.eye(4, k=1)\n",
    "print(diag)\n",
    "\n",
    "rand=np.random.random((2, 2))\n",
    "print(rand)"
   ]
  },
  {
   "cell_type": "code",
   "execution_count": 12,
   "metadata": {
    "tags": []
   },
   "outputs": [
    {
     "output_type": "stream",
     "name": "stdout",
     "text": "[0 2 4 6]\n[[1 2]\n [5 6]]\n"
    }
   ],
   "source": [
    "arr = np.arange(10)\n",
    "print(arr[0:8:2])\n",
    "\n",
    "arr = np.array([[1, 2, 3, 4], [5, 6, 7, 8], [9, 10, 11, 12]])\n",
    "print(arr[:2, :2])"
   ]
  },
  {
   "cell_type": "code",
   "execution_count": 13,
   "metadata": {
    "tags": []
   },
   "outputs": [
    {
     "output_type": "stream",
     "name": "stdout",
     "text": "[1 4 6]\n"
    }
   ],
   "source": [
    "arr = np.array([[1, 2], [3, 4], [5, 6]])\n",
    "print(arr[[0, 1, 2], [0, 1, 1]])"
   ]
  },
  {
   "cell_type": "code",
   "execution_count": null,
   "metadata": {},
   "outputs": [],
   "source": []
  }
 ]
}